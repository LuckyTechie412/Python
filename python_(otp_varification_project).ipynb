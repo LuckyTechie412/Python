{
  "nbformat": 4,
  "nbformat_minor": 0,
  "metadata": {
    "colab": {
      "provenance": [],
      "authorship_tag": "ABX9TyOWf70KAb9BkGKPD0bHRLvv",
      "include_colab_link": true
    },
    "kernelspec": {
      "name": "python3",
      "display_name": "Python 3"
    },
    "language_info": {
      "name": "python"
    }
  },
  "cells": [
    {
      "cell_type": "markdown",
      "metadata": {
        "id": "view-in-github",
        "colab_type": "text"
      },
      "source": [
        "<a href=\"https://colab.research.google.com/github/LuckyTechie412/Python/blob/main/python_(otp_varification_project).ipynb\" target=\"_parent\"><img src=\"https://colab.research.google.com/assets/colab-badge.svg\" alt=\"Open In Colab\"/></a>"
      ]
    },
    {
      "cell_type": "markdown",
      "source": [
        "**OTP varification** - this project generated random 6 digit unique otp for varification of user and it has been sent to the user email address. if the user enters correct otp it grants the access otherwise access denied and user will get 5 attempt to enter the correct otp to varify his account.  "
      ],
      "metadata": {
        "id": "pK8ztvosDhgW"
      }
    },
    {
      "cell_type": "code",
      "source": [
        "import random\n",
        "\n",
        "# it generates 6 digit code randomly\n",
        "\n",
        "def generate_unique_code():\n",
        "    return \"{:06d}\".format(random.randint(0, 999999))\n",
        "\n",
        "#store the code into genrated_code\n",
        "\n",
        "generated_code = generate_unique_code()\n",
        "print(\"Generated code:\", generated_code)\n",
        "\n",
        "#send the code to your mail\n",
        "\n",
        "email = input(f'enter your email address: ')\n",
        "code = generated_code\n",
        "print(f'code is successfully send to your email addresss: {email} ')\n",
        "\n",
        "# while loop to reenter the code if access denied and i<5 alows only 5 inputs\n",
        "i = 0\n",
        "\n",
        "while i < 5:\n",
        "\n",
        "  user_input = input(f'enter the code: ')\n",
        "\n",
        "# if, else statement for varification of code\n",
        "\n",
        "  if generated_code == user_input:\n",
        "     print('access granted')\n",
        "     break\n",
        "  else:\n",
        "     print('access denied')\n",
        "     i = i + 1"
      ],
      "metadata": {
        "colab": {
          "base_uri": "https://localhost:8080/"
        },
        "id": "WwrS1D4P-f2f",
        "outputId": "9377fe58-bf47-4800-cd78-674e5155e38b"
      },
      "execution_count": null,
      "outputs": [
        {
          "output_type": "stream",
          "name": "stdout",
          "text": [
            "Generated code: 259406\n",
            "enter your email address: abc\n",
            "code is successfully send to your email addresss: abc \n",
            "enter the code: 259406\n",
            "access granted\n"
          ]
        }
      ]
    }
  ]
}